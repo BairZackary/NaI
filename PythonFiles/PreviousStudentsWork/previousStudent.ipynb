{
 "cells": [
  {
   "cell_type": "code",
   "execution_count": 1,
   "metadata": {},
   "outputs": [],
   "source": [
    "import os\n",
    "import sys\n",
    "class NullWriter(object):\n",
    "    def write(self, arg):\n",
    "        pass\n",
    "from HTSDKScope import Oscilloscope\n",
    "#help(Oscilloscope)\n",
    "\n",
    "\n",
    "def SetScope(Ch1VDivIndex=0,Ch2VDivIndex=0,TimeDivIndex=11): \n",
    "    VScale2 = VScale1= TScale = 1\n",
    "    \n",
    "#{0: ('20 mV/Div', 0.02), 1: ('50 mV/Div', 0.05), 2: ('100 mV/Div', 0.1), \n",
    "#3: ('200 mV/Div', 0.2), 4: ('500 mV/Div', 0.5), 5: ('1 V/Div', 1.0), \n",
    "#6: ('2 V/Div', 2.0), 7: ('5 V/Div', 5.0)}    \n",
    "    if(Ch1VDivIndex==0): VScale1 = 0.02/32\n",
    "    elif(Ch1VDivIndex==1): VScale1 = 0.05/32\n",
    "    elif(Ch1VDivIndex==2): VScale1 = 0.1/32\n",
    "    elif(Ch1VDivIndex==3): VScale1 = 0.2/32\n",
    "    elif(Ch1VDivIndex==4): VScale1 = 0.5/32\n",
    "    elif(Ch1VDivIndex==5): VScale1 = 1.0/32\n",
    "    elif(Ch1VDivIndex==6): VScale1 = 2.0/32\n",
    "    else: VScale1 = 5.0/32\n",
    "        \n",
    "    if(Ch1VDivIndex==0): VScale2 = 0.02/32 \n",
    "    elif(Ch1VDivIndex==1): VScale2 = 0.05/32\n",
    "    elif(Ch1VDivIndex==2): VScale2 = 0.1/32\n",
    "    elif(Ch1VDivIndex==3): VScale2 = 0.2/32\n",
    "    elif(Ch1VDivIndex==4): VScale2 = 0.5/32\n",
    "    elif(Ch1VDivIndex==5): VScale2 = 1.0/32\n",
    "    elif(Ch1VDivIndex==6): VScale2 = 2.0/32\n",
    "    else: VScale2 = 5.0/32\n",
    "# Need to return VScale2 and TScale also eventually          \n",
    "# TimeDivIndex \n",
    "#{0: ('48 MSa/s', 48000000.0), 1: ('48 MSa/s', 48000000.0), 2: ('48 MSa/s', 48000000.0), 3: ('48 MSa/s', 48000000.0),\n",
    "#4: ('48 MSa/s', 48000000.0), 5: ('48 MSa/s', 48000000.0), 6: ('48 MSa/s', 48000000.0), 7: ('48 MSa/s', 48000000.0), \n",
    "#8: ('48 MSa/s', 48000000.0), 9: ('48 MSa/s', 48000000.0), 10: ('48 MSa/s', 48000000.0), \n",
    "#11: ('16 MSa/s', 16000000.0), 12: ('8 MSa/s', 8000000.0), 13: ('4 MSa/s', 4000000.0), \n",
    "#14: ('1 MSa/s', 1000000.0), 15: ('1 MSa/s', 1000000.0), 16: ('1 MSa/s', 1000000.0), \n",
    "#17: ('1 MSa/s', 1000000.0), 18: ('1 MSa/s', 1000000.0), 19: ('1 MSa/s', 1000000.0), 20: ('1 MSa/s', 1000000.0), \n",
    "#21: ('1 MSa/s', 1000000.0), 22: ('1 MSa/s', 1000000.0), 23: ('1 MSa/s', 1000000.0), 24: ('1 MSa/s', 1000000.0), \n",
    "#25: ('500 KSa/s', 500000.0), 26: ('200 KSa/s', 200000.0), 27: ('100 KSa/s', 100000.0)}\n",
    "    if(Ch1VDivIndex==0): TScale = 2e4\n",
    "    elif(Ch1VDivIndex==1): TScale = 2e4*3.\n",
    "    else: TScale = 2e4*3.\n",
    "\n",
    "    scope0 = Oscilloscope(scopeid=0)\n",
    "    scope0.set_voltage_division(1, Ch1VDivIndex)\n",
    "    scope0.set_voltage_division(2, Ch2VDivIndex)\n",
    "    scope0.set_sampling_rate(TimeDivIndex)\n",
    "    import sys\n",
    "\n",
    "    nullwrite = NullWriter()\n",
    "    oldstdout = sys.stdout\n",
    "    sys.stdout = nullwrite # disable output\n",
    "    scope0.setup_dso_cal_level() \n",
    "    sys.stdout = oldstdout # enable output \n",
    "    return scope0, TScale, VScale1, VScale2\n"
   ]
  },
  {
   "cell_type": "code",
   "execution_count": 3,
   "metadata": {},
   "outputs": [
    {
     "name": "stdout",
     "output_type": "stream",
     "text": [
      "Waiting for Trigger\n"
     ]
    },
    {
     "data": {
      "image/png": "[encoded data removed]",
      "text/plain": [
       "<Figure size 432x288 with 1 Axes>"
      ]
     },
     "metadata": {
      "needs_background": "light"
     },
     "output_type": "display_data"
    }
   ],
   "source": [
    "import os\n",
    "import time\n",
    "import numpy as np\n",
    "import matplotlib.pyplot as plt\n",
    "scope0 = Oscilloscope(scopeid=0)\n",
    "\n",
    "\n",
    "scope0,TScale,VScale1, VScale2=SetScope(2,2,27)\n",
    "#TenXProbe=True\n",
    "#if(TenXProbe): \n",
    "#    VScale1=VScale1*10\n",
    "#    VScale2=VScale2*10\n",
    "\n",
    "numSampRead = 2000\n",
    "numSampSave = 100/2\n",
    "Ch1Trig = 0.01\n",
    "Triggered = False\n",
    "\n",
    "print \"Waiting for Trigger\"\n",
    "while(Triggered == False):\n",
    "    rawData = scope0.read_data_from_scope(data_points=numSampRead)\n",
    "    ch1Data = np.asarray(rawData[0])*VScale1\n",
    "    ch2Data = np.asarray(rawData[1])*VScale2\n",
    "    timeData = np.asarray(rawData[2])*TScale# conversion to microsec\n",
    "    if(ch1Data.max() > Ch1Trig):\n",
    "        Triggered = True\n",
    "        ch1Max = np.argmax(ch1Data)\n",
    "        if(ch1Max+numSampSave > numSampRead): ch1Max = numSampRead-numSampSave\n",
    "        if(ch1Max-numSampSave < 0): ch1Max = numSampSave   \n",
    "        plt.plot(timeData[ch1Max-numSampSave:ch1Max+numSampSave], ch1Data[ch1Max-numSampSave:ch1Max+numSampSave], 'y-',\n",
    "                 timeData[ch1Max-numSampSave:ch1Max+numSampSave], ch2Data[ch1Max-numSampSave:ch1Max+numSampSave], 'b-')\n",
    "        plt.xlabel(\"time[us]\")\n",
    "        plt.ylabel(\"Volt [V]\")\n",
    "        plt.show()\n",
    "\n"
   ]
  },
  {
   "cell_type": "code",
   "execution_count": null,
   "metadata": {},
   "outputs": [],
   "source": []
  }
 ],
 "metadata": {
  "kernelspec": {
   "display_name": "Python 2",
   "language": "python",
   "name": "python2"
  },
  "language_info": {
   "codemirror_mode": {
    "name": "ipython",
    "version": 2
   },
   "file_extension": ".py",
   "mimetype": "text/x-python",
   "name": "python",
   "nbconvert_exporter": "python",
   "pygments_lexer": "ipython2",
   "version": "2.7.16"
  }
 },
 "nbformat": 4,
 "nbformat_minor": 2
}
