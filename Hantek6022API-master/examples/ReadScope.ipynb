{
 "cells": [
  {
   "cell_type": "code",
   "execution_count": 53,
   "metadata": {},
   "outputs": [
    {
     "name": "stdout",
     "output_type": "stream",
     "text": [
      "0.003125\n",
      "True\n",
      "('setupDsoCalLevel retval: ', 1)\n",
      "<type 'numpy.ndarray'>\n"
     ]
    },
    {
     "data": {
      "image/png": "[encoded data removed]",
      "text/plain": [
       "<Figure size 432x288 with 1 Axes>"
      ]
     },
     "metadata": {},
     "output_type": "display_data"
    }
   ],
   "source": [
    "import time\n",
    "import matplotlib.pyplot as plt\n",
    "import numpy as np\n",
    "from PyHT6022.HTSDKScope import Oscilloscope\n",
    "\n",
    "\n",
    "\n",
    "VDivIndex = 0\n",
    "scale = 5.0/32.0\n",
    "if(VDivIndex==0): VScale = 0.02*scale\n",
    "elif(VDivIndex==1): VScale = 0.1*scale\n",
    "elif(VDivIndex==2): VScale = 0.2*scale\n",
    "elif(VDivIndex==3): VScale = 0.5*scale\n",
    "elif(VDivIndex==4): VScale = 1.0*scale\n",
    "elif(VDivIndex==5): VScale = 2.0*scale\n",
    "elif(VDivIndex==6): VScale = 5.0*scale\n",
    "#else\n",
    "\n",
    "print(VScale)\n",
    "\n",
    "scope0 = Oscilloscope(scopeid=0)\n",
    "scope0.set_voltage_division(1, 0)\n",
    "scope0.set_voltage_division(2, 1)\n",
    "print(scope0.set_sampling_rate(26))\n",
    "scope0.setup_dso_cal_level()\n",
    "\n",
    "length = 500\n",
    "dataRaw = scope0.read_data_from_scope(data_points=500)\n",
    "#data = scope0.convert_read_data(dataRaw, 0.05)\n",
    "dataTime = np.asarray(dataRaw[2])\n",
    "dataCh1 = np.asarray(dataRaw[0])\n",
    "print(type(dataCh1))\n",
    "\n",
    "\n",
    "\n",
    "dataCh1 = dataCh1*VScale\n",
    "#tIndex = data[3].value\n",
    "plt.plot(dataTime[:length], dataCh1[:length]) \n",
    "plt.show()\n"
   ]
  },
  {
   "cell_type": "code",
   "execution_count": 26,
   "metadata": {},
   "outputs": [
    {
     "name": "stdout",
     "output_type": "stream",
     "text": [
      "Help on Oscilloscope in module PyHT6022.HTSDKScope object:\n",
      "\n",
      "class Oscilloscope(__builtin__.object)\n",
      " |  Methods defined here:\n",
      " |  \n",
      " |  __init__(self, scopeid=0)\n",
      " |  \n",
      " |  calibrate_dso(self)\n",
      " |      This function takes no arguments, and returns true on success, false on failure.\n",
      " |      This is used to set the oscilloscope's calibration level.\n",
      " |  \n",
      " |  get_calibration_data(self)\n",
      " |      This function takes no arguments, and returns the current state of calibration data.\n",
      " |      If None is returned, no calibration settings were loaded.\n",
      " |      This could be called after the calibrateDso function.\n",
      " |  \n",
      " |  get_channels_dict(self)\n",
      " |      Takes no arguments, returns the dictionary that contains all valid channels.\n",
      " |  \n",
      " |  get_sample_rate_dict(self)\n",
      " |      Takes no arguments, returns the dictionary that relates sample index to its\n",
      " |      corresponding timing division.\n",
      " |  \n",
      " |  get_trigger_slopes_dict(self)\n",
      " |      Takes no arguments, returns the dictionary that relates the trigger slope index to its\n",
      " |      corresponding setting.\n",
      " |  \n",
      " |  get_trigger_sources_dict(self)\n",
      " |      Takes no arguments, returns the dictionary that relates the trigger source index to its\n",
      " |      corresponding setting.\n",
      " |  \n",
      " |  get_trigger_sweeps_dict(self)\n",
      " |      Takes no arguments, returns the dictionary that relates the trigger sweep index to its\n",
      " |      corresponding setting.\n",
      " |  \n",
      " |  get_voltage_div_dict(self)\n",
      " |      Takes no arguments, returns the dictionary that relates voltage index to its\n",
      " |      corresponding voltage division.\n",
      " |  \n",
      " |  is_attached(self)\n",
      " |      Takes no arguments.\n",
      " |      Returns true if the scope is attached, false otherwise.\n",
      " |  \n",
      " |  read_data_from_scope(self, data_points=500, display_points=500, raw_data=False)\n",
      " |      Takes two optional arguments, number of data points and number of display point\n",
      " |      to grab. Returns a tuple with channel 1 data, channel 2 data, time since capture init, and a trigger\n",
      " |      index on success, and None on failure.\n",
      " |  \n",
      " |  set_dso_calibration(self, cal_data)\n",
      " |      This function takes one argument and returns True on success, False on failure.\n",
      " |      The argument is a previous calibration to be loaded to the device. This function sets\n",
      " |      the calibration level.\n",
      " |  \n",
      " |  set_sampling_rate(self, sample_rate_index)\n",
      " |      Takes one arguments,the sampling rate index value.\n",
      " |      Returns true if arguments were valid and command returned successfully, false otherwise.\n",
      " |  \n",
      " |  set_voltage_division(self, channel_num, volt_index)\n",
      " |      Takes two arguments, first the channel number, second the voltage index value.\n",
      " |      Returns true if arguments were valid and command returned successfully, false otherwise.\n",
      " |  \n",
      " |  setup_dso_cal_level(self)\n",
      " |      This function takes no arguments, and returns true on success, false on failure.\n",
      " |      This is used to poll the oscilloscope's calibration level.\n",
      " |  \n",
      " |  ----------------------------------------------------------------------\n",
      " |  Static methods defined here:\n",
      " |  \n",
      " |  convert_read_data(input_data, scale, scale_points=32.0)\n",
      " |      Helper function for converting the data taken from the scope into its true analog representation.\n",
      " |      Takes input from scope data, and the scaling factor, with the optional number of points in the\n",
      " |      scaling division. Returns an array of analog values read from the scope.\n",
      " |  \n",
      " |  ----------------------------------------------------------------------\n",
      " |  Data descriptors defined here:\n",
      " |  \n",
      " |  __dict__\n",
      " |      dictionary for instance variables (if defined)\n",
      " |  \n",
      " |  __weakref__\n",
      " |      list of weak references to the object (if defined)\n",
      "\n",
      "{0: ('20 mV/Div', 0.02), 1: ('50 mV/Div', 0.05), 2: ('100 mV/Div', 0.1), 3: ('200 mV/Div', 0.2), 4: ('500 mV/Div', 0.5), 5: ('1 V/Div', 1.0), 6: ('2 V/Div', 2.0), 7: ('5 V/Div', 5.0)}\n",
      "([23, 28, 31, 36, 41, 44, 46, 51, 56, 59, 61, 67, 72, 74, 77, 79, 82, 87, 92, 92, 95, 97, 102, 105, 108, 108, 110, 113, 118, 118, 118, 123, 123, 125, 125, 128, 128, 128, 128, 128, 131, 133, 133, 133, 133, 133, 133, 133, 131, 128], [26, 31, 33, 36, 41, 44, 49, 51, 56, 59, 64, 67, 72, 74, 77, 82, 84, 87, 90, 92, 97, 100, 102, 105, 108, 110, 113, 113, 118, 118, 120, 123, 123, 125, 125, 128, 128, 128, 128, 131, 131, 131, 133, 133, 133, 131, 131, 131, 131, 131], [0.0, 1e-06, 2e-06, 3e-06, 4e-06, 5e-06, 6e-06, 7e-06, 8e-06, 9e-06, 1e-05, 1.1e-05, 1.2e-05, 1.3e-05, 1.4e-05, 1.5e-05, 1.6e-05, 1.7e-05, 1.8e-05, 1.9e-05, 2e-05, 2.1e-05, 2.2e-05, 2.3e-05, 2.4e-05, 2.5e-05, 2.6e-05, 2.7e-05, 2.8e-05, 2.9e-05, 3e-05, 3.1e-05, 3.2e-05, 3.3e-05, 3.4e-05, 3.5e-05, 3.6e-05, 3.7e-05, 3.8e-05, 3.9e-05, 4e-05, 4.1e-05, 4.2e-05, 4.3e-05, 4.4e-05, 4.5e-05, 4.6e-05, 4.7e-05, 4.8e-05, 4.9e-05], c_ulong(0L))\n"
     ]
    }
   ],
   "source": [
    "help(scope0)\n",
    "print(scope0.get_voltage_div_dict())\n",
    "print(data)"
   ]
  },
  {
   "cell_type": "code",
   "execution_count": null,
   "metadata": {},
   "outputs": [],
   "source": []
  },
  {
   "cell_type": "code",
   "execution_count": null,
   "metadata": {},
   "outputs": [],
   "source": []
  }
 ],
 "metadata": {
  "kernelspec": {
   "display_name": "Python 2",
   "language": "python",
   "name": "python2"
  },
  "language_info": {
   "codemirror_mode": {
    "name": "ipython",
    "version": 2
   },
   "file_extension": ".py",
   "mimetype": "text/x-python",
   "name": "python",
   "nbconvert_exporter": "python",
   "pygments_lexer": "ipython2",
   "version": "2.7.15"
  }
 },
 "nbformat": 4,
 "nbformat_minor": 2
}
